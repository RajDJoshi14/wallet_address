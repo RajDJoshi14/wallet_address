{
  "nbformat": 4,
  "nbformat_minor": 0,
  "metadata": {
    "colab": {
      "provenance": []
    },
    "kernelspec": {
      "name": "python3",
      "display_name": "Python 3"
    },
    "language_info": {
      "name": "python"
    }
  },
  "cells": [
    {
      "cell_type": "code",
      "execution_count": 3,
      "metadata": {
        "colab": {
          "base_uri": "https://localhost:8080/"
        },
        "id": "GcQ-a2uAkLZc",
        "outputId": "2814c5c4-c612-42b3-9289-eff61a4c0389"
      },
      "outputs": [
        {
          "output_type": "stream",
          "name": "stdout",
          "text": [
            "1\n",
            "1\n",
            "3\n",
            "4\n",
            "5\n",
            "6\n",
            "7\n",
            "8\n",
            "['6b86b273ff34fce19d6b804eff5a3f5747ada4eaa22f1d49c01e52ddb7875b4b', '6b86b273ff34fce19d6b804eff5a3f5747ada4eaa22f1d49c01e52ddb7875b4b', '4e07408562bedb8b60ce05c1decfe3ad16b72230967de01f640b7e4729b49fce', '4b227777d4dd1fc61c6f884f48641d02b4d121d3fd328cb08b5531fcacdabf8a', 'ef2d127de37b942baad06145e54b0c619a1f22327b2ebbcfbec78f5564afe39d', 'e7f6c011776e8db7cd330b54174fd76f7d0216b612387a5ffcfb81e6f0919683', '7902699be42c8a8e46fbbb4501726517e86b22c56a189f7625a6da49081b2451', '2c624232cdd221771294dfbb310aca000a0df6ac8b66b696d90ef06fdefb64a3']\n",
            "6b86b273ff34fce19d6b804eff5a3f5747ada4eaa22f1d49c01e52ddb7875b4b6b86b273ff34fce19d6b804eff5a3f5747ada4eaa22f1d49c01e52ddb7875b4b\n",
            "4e07408562bedb8b60ce05c1decfe3ad16b72230967de01f640b7e4729b49fce4b227777d4dd1fc61c6f884f48641d02b4d121d3fd328cb08b5531fcacdabf8a\n",
            "ef2d127de37b942baad06145e54b0c619a1f22327b2ebbcfbec78f5564afe39de7f6c011776e8db7cd330b54174fd76f7d0216b612387a5ffcfb81e6f0919683\n",
            "7902699be42c8a8e46fbbb4501726517e86b22c56a189f7625a6da49081b24512c624232cdd221771294dfbb310aca000a0df6ac8b66b696d90ef06fdefb64a3\n",
            "0 b[i] ['6b86b273ff34fce19d6b804eff5a3f5747ada4eaa22f1d49c01e52ddb7875b4b', '6b86b273ff34fce19d6b804eff5a3f5747ada4eaa22f1d49c01e52ddb7875b4b', '4e07408562bedb8b60ce05c1decfe3ad16b72230967de01f640b7e4729b49fce', '4b227777d4dd1fc61c6f884f48641d02b4d121d3fd328cb08b5531fcacdabf8a', 'ef2d127de37b942baad06145e54b0c619a1f22327b2ebbcfbec78f5564afe39d', 'e7f6c011776e8db7cd330b54174fd76f7d0216b612387a5ffcfb81e6f0919683', '7902699be42c8a8e46fbbb4501726517e86b22c56a189f7625a6da49081b2451', '2c624232cdd221771294dfbb310aca000a0df6ac8b66b696d90ef06fdefb64a3']\n",
            "3eff7c5314a5ed2d5d8fdad16bbc4851cd98b9861c950854246318c5576a37fd13656c83d841ea7de6ebf3a89e0038fea9526bd7f686f06f7a692343a8a32dca\n",
            "43587f59c00a8e528bc7636fabaffcf70cc25afc5b4d53df797faf0dc72f6dd0ada17dcc2d615cc0d982a538b618f45441e798c38b1df9f3dd273e386eba1363\n",
            "1 b[i] ['3eff7c5314a5ed2d5d8fdad16bbc4851cd98b9861c950854246318c5576a37fd', '13656c83d841ea7de6ebf3a89e0038fea9526bd7f686f06f7a692343a8a32dca', '43587f59c00a8e528bc7636fabaffcf70cc25afc5b4d53df797faf0dc72f6dd0', 'ada17dcc2d615cc0d982a538b618f45441e798c38b1df9f3dd273e386eba1363']\n",
            "080ba9056aff4eac3cec75321dba752166a1921543fff1f7913d76f1cf9bb589e0e2d0cec0ef7e8fc458e516dfde82890c183431a3f9efae9e4693fc23dfa36a\n",
            "2 b[i] ['080ba9056aff4eac3cec75321dba752166a1921543fff1f7913d76f1cf9bb589', 'e0e2d0cec0ef7e8fc458e516dfde82890c183431a3f9efae9e4693fc23dfa36a']\n",
            "3 b[i] ['f6cd51052972287ff2b152e0b6810bd389dfef7ce548cb7ef4fb2f81ecce376b']\n"
          ]
        }
      ],
      "source": [
        "import hashlib\n",
        "\n",
        "def hashh(text):\n",
        "    print(str(text))\n",
        "    d = hashlib.sha256(str(text).encode('utf-8')).hexdigest()\n",
        "    return d\n",
        "\n",
        "# Initial data\n",
        "a = [1, 2, 3, 4, 5, 6, 7, 8]\n",
        "b = []\n",
        "d1 = []\n",
        "i = 0\n",
        "\n",
        "# Create the first level of hashes\n",
        "while i < len(a):\n",
        "    d1.append(hashh(a[i]))\n",
        "    i += 1\n",
        "\n",
        "print(d1)\n",
        "b.append(d1)\n",
        "\n",
        "# Build the Merkle tree\n",
        "i = 0\n",
        "while True:\n",
        "    k = 0\n",
        "    c = []\n",
        "    while k < len(b[i]):\n",
        "        if k + 1 < len(b[i]):\n",
        "            combined_hash = hashh(b[i][k] + b[i][k + 1])\n",
        "            c.append(combined_hash)\n",
        "        else:\n",
        "            c.append(b[i][k])\n",
        "        k += 2\n",
        "\n",
        "    b.append(c)\n",
        "    print(i, \"b[i]\", b[i])\n",
        "\n",
        "    if len(b[i]) == 1:\n",
        "        break\n",
        "\n",
        "    i += 1\n"
      ]
    }
  ]
}
